{
 "cells": [
  {
   "cell_type": "code",
   "execution_count": 1,
   "id": "d001afbe",
   "metadata": {},
   "outputs": [],
   "source": [
    "import torch\n",
    "from torch.autograd.functional import jacobian, hessian\n",
    "import matplotlib.pyplot as plt"
   ]
  },
  {
   "cell_type": "code",
   "execution_count": 2,
   "id": "6780f1d3",
   "metadata": {},
   "outputs": [],
   "source": [
    "N = 10 # number of samples\n",
    "w = torch.tensor(5., requires_grad=True)\n",
    "t = torch.linspace(5,30,N)\n",
    "x = torch.linspace(0,1,N)"
   ]
  },
  {
   "cell_type": "markdown",
   "id": "6d622456",
   "metadata": {},
   "source": [
    "## case where x is only input"
   ]
  },
  {
   "cell_type": "code",
   "execution_count": 3,
   "id": "3a481325",
   "metadata": {},
   "outputs": [
    {
     "name": "stdout",
     "output_type": "stream",
     "text": [
      "tensor([-6.0000e+00,  6.1791e+01,  2.4473e+02,  5.9548e+02,  1.1667e+03,\n",
      "         2.0111e+03,  3.1814e+03,  4.7302e+03,  6.7102e+03,  9.1740e+03],\n",
      "       grad_fn=<DiagBackward>)\n",
      "\n",
      "tensor([-6.0000e+00,  6.1791e+01,  2.4473e+02,  5.9548e+02,  1.1667e+03,\n",
      "         2.0111e+03,  3.1814e+03,  4.7302e+03,  6.7102e+03,  9.1740e+03],\n",
      "       grad_fn=<SubBackward0>)\n",
      "\n",
      "tensor([ 250.0000,  615.3086, 1142.3457, 1831.1111, 2681.6050, 3693.8274,\n",
      "        4867.7783, 6203.4565, 7700.8633, 9360.0000], grad_fn=<DiagBackward>)\n",
      "\n",
      "tensor([ 250.0000,  615.3086, 1142.3457, 1831.1111, 2681.6050, 3693.8274,\n",
      "        4867.7783, 6203.4565, 7700.8633, 9360.0000], grad_fn=<AddBackward0>)\n",
      "\n",
      "tensor(4.4646e+08)\n"
     ]
    }
   ],
   "source": [
    "def f(X):\n",
    "    return 2*X**3*t + w*X**2*t**2 - 6*X\n",
    "def fprime(x):\n",
    "    return torch.diag(jacobian(func=f, inputs=x, create_graph=True))\n",
    "def fprime_actual(x):\n",
    "    return 6*x**2*t + 2*w*x*t**2 - 6\n",
    "def fprimeprime_actual(x):\n",
    "    return 12*x*t   + 2*w*t**2\n",
    "\n",
    "x = torch.linspace(0,1,10)\n",
    "\n",
    "f_x  = fprime(x)\n",
    "f_xx = torch.diag(jacobian(func=fprime, inputs=x, create_graph=True))\n",
    "\n",
    "print(f_x)\n",
    "print()\n",
    "print(fprime_actual(x))\n",
    "print()\n",
    "print(f_xx)\n",
    "print()\n",
    "print(fprimeprime_actual(x))\n",
    "print()\n",
    "def mse(x):\n",
    "    return torch.sum(x**2).mean()\n",
    "\n",
    "loss = mse(f(x) + f_x + f_xx)\n",
    "# loss = f(x) + f_x + f_xx\n",
    "loss.backward()\n",
    "print(w.grad)"
   ]
  },
  {
   "cell_type": "markdown",
   "id": "21cf69b9",
   "metadata": {},
   "source": [
    "### differentiate with respect to time"
   ]
  },
  {
   "cell_type": "code",
   "execution_count": 9,
   "id": "f6c6605b",
   "metadata": {},
   "outputs": [
    {
     "name": "stdout",
     "output_type": "stream",
     "text": [
      "tensor([  0.0000,   0.9630,   5.2346,  14.8889,  32.0000,  58.6420,  96.8889,\n",
      "        148.8148, 216.4938, 302.0000], grad_fn=<AddBackward0>)\n",
      "\n",
      "tensor([ 0.0000,  0.1235,  0.4938,  1.1111,  1.9753,  3.0864,  4.4444,  6.0494,\n",
      "         7.9012, 10.0000], grad_fn=<MulBackward0>)\n"
     ]
    }
   ],
   "source": [
    "def f(t):\n",
    "    return 2*x**3*t + w*x**2*t**2 - 6*x\n",
    "def fprime(t):\n",
    "    return torch.diag(jacobian(func=f, inputs=t, create_graph=True))\n",
    "def fprime_actual(t):\n",
    "    return 2*x**3 + 2*w*x**2*t\n",
    "def fprimeprime_actual(t):\n",
    "    return 2*w*x**2\n",
    "\n",
    "f_t  = fprime(t)\n",
    "f_tt = torch.diag(jacobian(func=fprime, inputs=t, create_graph=True))\n",
    "\n",
    "# print(f_t)\n",
    "# print()\n",
    "print(fprime_actual(t))\n",
    "print()\n",
    "# print(f_tt)\n",
    "# print()\n",
    "print(fprimeprime_actual(t))"
   ]
  },
  {
   "cell_type": "markdown",
   "id": "ff2bffe1",
   "metadata": {},
   "source": [
    "## case where t is also an input"
   ]
  },
  {
   "cell_type": "markdown",
   "id": "f6fd4f18",
   "metadata": {},
   "source": [
    "Function is:\n",
    "\\begin{align}\n",
    "    f(x,t) &= 2x^3t+wx^2t^2-6x\n",
    "\\end{align}"
   ]
  },
  {
   "cell_type": "code",
   "execution_count": 13,
   "id": "e079d081",
   "metadata": {},
   "outputs": [
    {
     "name": "stdout",
     "output_type": "stream",
     "text": [
      "tensor([-6.0000e+00,  6.1791e+01,  2.4473e+02,  5.9548e+02,  1.1667e+03,\n",
      "         2.0111e+03,  3.1814e+03,  4.7302e+03,  6.7102e+03,  9.1740e+03],\n",
      "       grad_fn=<SelectBackward>)\n",
      "\n",
      "tensor([  0.0000,   0.9630,   5.2346,  14.8889,  32.0000,  58.6420,  96.8889,\n",
      "        148.8148, 216.4938, 302.0000], grad_fn=<SelectBackward>)\n",
      "\n",
      "tensor([ 250.0000,  615.3086, 1142.3457, 1831.1111, 2681.6050, 3693.8274,\n",
      "        4867.7783, 6203.4565, 7700.8633, 9360.0000], grad_fn=<SelectBackward>)\n",
      "\n",
      "tensor([ 0.0000,  0.1235,  0.4938,  1.1111,  1.9753,  3.0864,  4.4444,  6.0494,\n",
      "         7.9012, 10.0000], grad_fn=<SelectBackward>)\n"
     ]
    }
   ],
   "source": [
    "def f(X):\n",
    "    x = X.view(2,-1)[0]\n",
    "    t = X.view(2,-1)[1]\n",
    "    return 2*x**3*t + w*x**2*t**2 - 6*x\n",
    "\n",
    "def drv1(X):\n",
    "    jac = jacobian(func=f, inputs=X, create_graph=True)\n",
    "    u_x = torch.diag(jac[:,:N])\n",
    "    u_t = torch.diag(jac[:,N:])\n",
    "    return torch.cat([u_x, u_t], axis=0)\n",
    "\n",
    "def drv2(X):\n",
    "    jac  = jacobian(func=drv1, inputs=X, create_graph=True)\n",
    "    u_xx = torch.diag(jac[:N,:N])\n",
    "    u_xt = torch.diag(jac[N:,:N])\n",
    "    u_tx = torch.diag(jac[:N,N:])\n",
    "    u_tt = torch.diag(jac[N:,N:])\n",
    "    return torch.cat([u_xx, u_xt, u_tx, u_tt], dim=0)\n",
    "\n",
    "X = torch.cat([x,t], dim=0)\n",
    "first_deriv = drv1(X).view(2,-1)\n",
    "u_x = first_deriv[0]\n",
    "u_t = first_deriv[1]\n",
    "\n",
    "second_deriv = drv2(X).view(4,-1)\n",
    "u_xx = second_deriv[0]\n",
    "u_xt = second_deriv[1]\n",
    "u_tx = second_deriv[2]\n",
    "u_tt = second_deriv[3]\n",
    "\n",
    "print(u_x)\n",
    "print()\n",
    "print(u_t)\n",
    "print()\n",
    "print(u_xx)\n",
    "print()\n",
    "print(u_tt)"
   ]
  }
 ],
 "metadata": {
  "kernelspec": {
   "display_name": "torch_env",
   "language": "python",
   "name": "torch_env"
  },
  "language_info": {
   "codemirror_mode": {
    "name": "ipython",
    "version": 3
   },
   "file_extension": ".py",
   "mimetype": "text/x-python",
   "name": "python",
   "nbconvert_exporter": "python",
   "pygments_lexer": "ipython3",
   "version": "3.7.6"
  },
  "toc": {
   "base_numbering": 1,
   "nav_menu": {},
   "number_sections": true,
   "sideBar": true,
   "skip_h1_title": false,
   "title_cell": "Table of Contents",
   "title_sidebar": "Contents",
   "toc_cell": false,
   "toc_position": {},
   "toc_section_display": true,
   "toc_window_display": false
  }
 },
 "nbformat": 4,
 "nbformat_minor": 5
}
