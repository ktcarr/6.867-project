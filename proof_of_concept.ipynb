{
 "cells": [
  {
   "cell_type": "code",
   "execution_count": 1,
   "id": "4d51daf3",
   "metadata": {},
   "outputs": [],
   "source": [
    "import torch\n",
    "from torch.autograd.functional import jacobian, hessian\n",
    "import matplotlib.pyplot as plt"
   ]
  },
  {
   "cell_type": "markdown",
   "id": "f30c04fe",
   "metadata": {},
   "source": [
    "Function is:\n",
    "\\begin{align}\n",
    "    u(x,t) &= 2x^3t+wx^2t^2-6x\n",
    "\\end{align}\n",
    "Loss function is:\n",
    "\\begin{align*}\n",
    "    \\mathcal{L} &= MSE\\left[u + u_x + u_{xx} \\right]\\\\\n",
    "    &= MSE\\left[2x^3t+wx^2t^2-6x + 6x^2t + 2wxt^2 - 6 + 12xt   + 2wt^2\\right]\n",
    "\\end{align*}"
   ]
  },
  {
   "cell_type": "code",
   "execution_count": 2,
   "id": "060f82b3",
   "metadata": {},
   "outputs": [],
   "source": [
    "### Compute derivatives analytically\n",
    "def dudx_true(X):\n",
    "    x = X.view(2,-1)[0]\n",
    "    return 6*x**2*t + 2*w*x*t**2 - 6\n",
    "\n",
    "def du2dx2_true(X):\n",
    "    x = X.view(2,-1)[0]\n",
    "    return 12*x*t   + 2*w*t**2\n",
    "\n",
    "def dudt_true(X):\n",
    "    t = X.view(2,-1)[1]\n",
    "    return 2*x**3 + 2*w*x**2*t\n",
    "\n",
    "def du2dt2_true(X):\n",
    "    t = X.view(2,-1)[1]\n",
    "    return 2*w*x**2\n",
    "\n",
    "def mse(x):\n",
    "    return torch.sum(x**2).mean()"
   ]
  },
  {
   "cell_type": "markdown",
   "id": "128df1bd",
   "metadata": {},
   "source": [
    "## efficient way"
   ]
  },
  {
   "cell_type": "code",
   "execution_count": 4,
   "id": "acfe9436",
   "metadata": {},
   "outputs": [
    {
     "name": "stdout",
     "output_type": "stream",
     "text": [
      "tensor(4.4646e+08, grad_fn=<ZeroBackward>)\n"
     ]
    }
   ],
   "source": [
    "N = 10 # number of samples\n",
    "w = torch.tensor(5., requires_grad=True)\n",
    "t = torch.linspace(5,30,N)\n",
    "t.requires_grad=True\n",
    "x = torch.linspace(0,1,N)\n",
    "x.requires_grad=True\n",
    "X = torch.cat([x,t], dim=0)\n",
    "\n",
    "def u(x,t):\n",
    "    '''function'''\n",
    "    return 2*x**3*t + w*x**2*t**2 - 6*x\n",
    "\n",
    "u_ = u(x,t)\n",
    "\n",
    "## Compute first derivative (WRT x)\n",
    "u_.backward(torch.ones_like(x), create_graph=True)\n",
    "u_x = x.grad.clone()\n",
    "u_t = t.grad.clone()\n",
    "\n",
    "## Compute second derivative\n",
    "x.grad.zero_() # zero out gradients of x first\n",
    "u_x.backward(torch.ones_like(x), create_graph=True)\n",
    "u_xx = x.grad.clone()\n",
    "\n",
    "## Finally, compute loss WRT parameters\n",
    "x.grad.zero_() # zero out gradients first\n",
    "t.grad.zero_()\n",
    "w.grad.zero_()\n",
    "\n",
    "## compute loss\n",
    "loss = mse(u_ + u_x + u_xx)\n",
    "loss.backward()\n",
    "print(w.grad)"
   ]
  },
  {
   "cell_type": "markdown",
   "id": "5c7063ef",
   "metadata": {},
   "source": [
    "## compare to actual"
   ]
  },
  {
   "cell_type": "code",
   "execution_count": 72,
   "id": "3cb2e732",
   "metadata": {},
   "outputs": [
    {
     "name": "stdout",
     "output_type": "stream",
     "text": [
      "tensor([-6.0000e+00,  6.1791e+01,  2.4473e+02,  5.9548e+02,  1.1667e+03,\n",
      "         2.0111e+03,  3.1814e+03,  4.7302e+03,  6.7102e+03,  9.1740e+03],\n",
      "       grad_fn=<SubBackward0>)\n",
      "tensor([-6.0000e+00,  6.1791e+01,  2.4473e+02,  5.9548e+02,  1.1667e+03,\n",
      "         2.0111e+03,  3.1814e+03,  4.7302e+03,  6.7102e+03,  9.1740e+03],\n",
      "       grad_fn=<CloneBackward>)\n",
      "\n",
      "tensor([  0.0000,   0.9630,   5.2346,  14.8889,  32.0000,  58.6420,  96.8889,\n",
      "        148.8148, 216.4938, 302.0000], grad_fn=<AddBackward0>)\n",
      "tensor([  0.0000,   0.9630,   5.2346,  14.8889,  32.0000,  58.6420,  96.8889,\n",
      "        148.8148, 216.4938, 302.0000], grad_fn=<CloneBackward>)\n",
      "\n",
      "tensor([ 250.0000,  615.3086, 1142.3457, 1831.1111, 2681.6050, 3693.8274,\n",
      "        4867.7783, 6203.4565, 7700.8633, 9360.0000], grad_fn=<AddBackward0>)\n",
      "tensor([ 250.0000,  615.3086, 1142.3457, 1831.1111, 2681.6050, 3693.8274,\n",
      "        4867.7783, 6203.4565, 7700.8633, 9360.0000])\n",
      "\n"
     ]
    },
    {
     "ename": "RuntimeError",
     "evalue": "Trying to backward through the graph a second time, but the saved intermediate results have already been freed. Specify retain_graph=True when calling backward the first time.",
     "output_type": "error",
     "traceback": [
      "\u001b[0;31m---------------------------------------------------------------------------\u001b[0m",
      "\u001b[0;31mRuntimeError\u001b[0m                              Traceback (most recent call last)",
      "\u001b[0;32m/tmp/ipykernel_19729/1136983037.py\u001b[0m in \u001b[0;36m<module>\u001b[0;34m\u001b[0m\n\u001b[1;32m     16\u001b[0m \u001b[0;34m\u001b[0m\u001b[0m\n\u001b[1;32m     17\u001b[0m \u001b[0mloss\u001b[0m \u001b[0;34m=\u001b[0m \u001b[0mmse\u001b[0m\u001b[0;34m(\u001b[0m\u001b[0mu\u001b[0m\u001b[0;34m(\u001b[0m\u001b[0mx\u001b[0m\u001b[0;34m,\u001b[0m\u001b[0mt\u001b[0m\u001b[0;34m)\u001b[0m \u001b[0;34m+\u001b[0m \u001b[0mu_x\u001b[0m \u001b[0;34m+\u001b[0m \u001b[0mu_xx\u001b[0m\u001b[0;34m)\u001b[0m\u001b[0;34m\u001b[0m\u001b[0;34m\u001b[0m\u001b[0m\n\u001b[0;32m---> 18\u001b[0;31m \u001b[0mloss\u001b[0m\u001b[0;34m.\u001b[0m\u001b[0mbackward\u001b[0m\u001b[0;34m(\u001b[0m\u001b[0;34m)\u001b[0m\u001b[0;34m\u001b[0m\u001b[0;34m\u001b[0m\u001b[0m\n\u001b[0m\u001b[1;32m     19\u001b[0m \u001b[0mprint\u001b[0m\u001b[0;34m(\u001b[0m\u001b[0mw\u001b[0m\u001b[0;34m.\u001b[0m\u001b[0mgrad\u001b[0m\u001b[0;34m)\u001b[0m\u001b[0;34m\u001b[0m\u001b[0;34m\u001b[0m\u001b[0m\n",
      "\u001b[0;32m~/miniconda3/envs/torch_env/lib/python3.7/site-packages/torch/tensor.py\u001b[0m in \u001b[0;36mbackward\u001b[0;34m(self, gradient, retain_graph, create_graph)\u001b[0m\n\u001b[1;32m    182\u001b[0m                 \u001b[0mproducts\u001b[0m\u001b[0;34m.\u001b[0m \u001b[0mDefaults\u001b[0m \u001b[0mto\u001b[0m\u001b[0;31m \u001b[0m\u001b[0;31m`\u001b[0m\u001b[0;31m`\u001b[0m\u001b[0;32mFalse\u001b[0m\u001b[0;31m`\u001b[0m\u001b[0;31m`\u001b[0m\u001b[0;34m.\u001b[0m\u001b[0;34m\u001b[0m\u001b[0;34m\u001b[0m\u001b[0m\n\u001b[1;32m    183\u001b[0m         \"\"\"\n\u001b[0;32m--> 184\u001b[0;31m         \u001b[0mtorch\u001b[0m\u001b[0;34m.\u001b[0m\u001b[0mautograd\u001b[0m\u001b[0;34m.\u001b[0m\u001b[0mbackward\u001b[0m\u001b[0;34m(\u001b[0m\u001b[0mself\u001b[0m\u001b[0;34m,\u001b[0m \u001b[0mgradient\u001b[0m\u001b[0;34m,\u001b[0m \u001b[0mretain_graph\u001b[0m\u001b[0;34m,\u001b[0m \u001b[0mcreate_graph\u001b[0m\u001b[0;34m)\u001b[0m\u001b[0;34m\u001b[0m\u001b[0;34m\u001b[0m\u001b[0m\n\u001b[0m\u001b[1;32m    185\u001b[0m \u001b[0;34m\u001b[0m\u001b[0m\n\u001b[1;32m    186\u001b[0m     \u001b[0;32mdef\u001b[0m \u001b[0mregister_hook\u001b[0m\u001b[0;34m(\u001b[0m\u001b[0mself\u001b[0m\u001b[0;34m,\u001b[0m \u001b[0mhook\u001b[0m\u001b[0;34m)\u001b[0m\u001b[0;34m:\u001b[0m\u001b[0;34m\u001b[0m\u001b[0;34m\u001b[0m\u001b[0m\n",
      "\u001b[0;32m~/miniconda3/envs/torch_env/lib/python3.7/site-packages/torch/autograd/__init__.py\u001b[0m in \u001b[0;36mbackward\u001b[0;34m(tensors, grad_tensors, retain_graph, create_graph, grad_variables)\u001b[0m\n\u001b[1;32m    123\u001b[0m     Variable._execution_engine.run_backward(\n\u001b[1;32m    124\u001b[0m         \u001b[0mtensors\u001b[0m\u001b[0;34m,\u001b[0m \u001b[0mgrad_tensors\u001b[0m\u001b[0;34m,\u001b[0m \u001b[0mretain_graph\u001b[0m\u001b[0;34m,\u001b[0m \u001b[0mcreate_graph\u001b[0m\u001b[0;34m,\u001b[0m\u001b[0;34m\u001b[0m\u001b[0;34m\u001b[0m\u001b[0m\n\u001b[0;32m--> 125\u001b[0;31m         allow_unreachable=True)  # allow_unreachable flag\n\u001b[0m\u001b[1;32m    126\u001b[0m \u001b[0;34m\u001b[0m\u001b[0m\n\u001b[1;32m    127\u001b[0m \u001b[0;34m\u001b[0m\u001b[0m\n",
      "\u001b[0;31mRuntimeError\u001b[0m: Trying to backward through the graph a second time, but the saved intermediate results have already been freed. Specify retain_graph=True when calling backward the first time."
     ]
    }
   ],
   "source": [
    "## compute actual derivatives\n",
    "u_x_true = dudx_true(X)\n",
    "u_t_true = dudt_true(X)\n",
    "u_xx_true = du2dx2_true(X)\n",
    "u_tt_true = du2dt2_true(X)\n",
    "\n",
    "print(u_x_true)\n",
    "print(u_x)\n",
    "print()\n",
    "print(u_t_true)\n",
    "print(u_t)\n",
    "print()\n",
    "print(u_xx_true)\n",
    "print(u_xx)\n",
    "print()\n",
    "\n",
    "loss = mse(u(x,t) + u_x + u_xx)\n",
    "loss.backward()\n",
    "print(w.grad)"
   ]
  },
  {
   "cell_type": "markdown",
   "id": "ee55b17b",
   "metadata": {},
   "source": [
    "## very inefficient way..."
   ]
  },
  {
   "cell_type": "code",
   "execution_count": 87,
   "id": "dc5b60c5",
   "metadata": {},
   "outputs": [
    {
     "name": "stdout",
     "output_type": "stream",
     "text": [
      "tensor([-6.0000e+00,  6.1791e+01,  2.4473e+02,  5.9548e+02,  1.1667e+03,\n",
      "         2.0111e+03,  3.1814e+03,  4.7302e+03,  6.7102e+03,  9.1740e+03],\n",
      "       grad_fn=<SubBackward0>)\n",
      "tensor([-6.0000e+00,  6.1791e+01,  2.4473e+02,  5.9548e+02,  1.1667e+03,\n",
      "         2.0111e+03,  3.1814e+03,  4.7302e+03,  6.7102e+03,  9.1740e+03],\n",
      "       grad_fn=<SelectBackward>)\n",
      "\n",
      "tensor([  0.0000,   0.9630,   5.2346,  14.8889,  32.0000,  58.6420,  96.8889,\n",
      "        148.8148, 216.4938, 302.0000], grad_fn=<AddBackward0>)\n",
      "tensor([  0.0000,   0.9630,   5.2346,  14.8889,  32.0000,  58.6420,  96.8889,\n",
      "        148.8148, 216.4938, 302.0000], grad_fn=<SelectBackward>)\n",
      "\n",
      "tensor([ 250.0000,  615.3086, 1142.3457, 1831.1111, 2681.6050, 3693.8274,\n",
      "        4867.7783, 6203.4565, 7700.8633, 9360.0000], grad_fn=<AddBackward0>)\n",
      "tensor([ 250.0000,  615.3086, 1142.3457, 1831.1111, 2681.6050, 3693.8274,\n",
      "        4867.7783, 6203.4565, 7700.8633, 9360.0000], grad_fn=<SelectBackward>)\n",
      "\n",
      "tensor([ 0.0000,  0.1235,  0.4938,  1.1111,  1.9753,  3.0864,  4.4444,  6.0494,\n",
      "         7.9012, 10.0000], grad_fn=<MulBackward0>)\n",
      "tensor([ 0.0000,  0.1235,  0.4938,  1.1111,  1.9753,  3.0864,  4.4444,  6.0494,\n",
      "         7.9012, 10.0000], grad_fn=<SelectBackward>)\n",
      "\n",
      "tensor(4.4646e+08, grad_fn=<ZeroBackward>)\n",
      "\n"
     ]
    }
   ],
   "source": [
    "def u(X):\n",
    "    '''function'''\n",
    "    x = X.view(2,-1)[0]\n",
    "    t = X.view(2,-1)[1]\n",
    "    return 2*x**3*t + w*x**2*t**2 - 6*x\n",
    "\n",
    "#### custom derivatives #####\n",
    "def drv1(X):\n",
    "    jac = jacobian(func=u, inputs=X, create_graph=True)\n",
    "    u_x = torch.diag(jac[:,:N])\n",
    "    u_t = torch.diag(jac[:,N:])\n",
    "    return torch.cat([u_x, u_t], axis=0)\n",
    "\n",
    "def drv2(X):\n",
    "    jac  = jacobian(func=drv1, inputs=X, create_graph=True)\n",
    "    u_xx = torch.diag(jac[:N,:N])\n",
    "    u_xt = torch.diag(jac[N:,:N])\n",
    "    u_tx = torch.diag(jac[:N,N:])\n",
    "    u_tt = torch.diag(jac[N:,N:])\n",
    "    return torch.cat([u_xx, u_xt, u_tx, u_tt], dim=0)\n",
    "\n",
    "## compute actual derivatives\n",
    "u_x_true = dudx_true(X)\n",
    "u_t_true = dudt_true(X)\n",
    "u_xx_true = du2dx2_true(X)\n",
    "u_tt_true = du2dt2_true(X)\n",
    "\n",
    "## compute custom derivatives\n",
    "first_deriv = drv1(X).view(2,-1)\n",
    "second_deriv = drv2(X).view(4,-1)\n",
    "\n",
    "## parse derivatives\n",
    "u_x = first_deriv[0]\n",
    "u_t = first_deriv[1]\n",
    "u_xx = second_deriv[0]\n",
    "u_xt = second_deriv[1]\n",
    "u_tx = second_deriv[2]\n",
    "u_tt = second_deriv[3]\n",
    "\n",
    "print(u_x_true)\n",
    "print(u_x)\n",
    "print()\n",
    "print(u_t_true)\n",
    "print(u_t)\n",
    "print()\n",
    "print(u_xx_true)\n",
    "print(u_xx)\n",
    "print()\n",
    "print(u_tt_true)\n",
    "print(u_tt)\n",
    "print()\n",
    "\n",
    "loss = mse(u(X) + u_x + u_xx)\n",
    "loss.backward()\n",
    "print(w.grad)\n",
    "w.grad.zero_()\n",
    "print()"
   ]
  }
 ],
 "metadata": {
  "kernelspec": {
   "display_name": "torch_env",
   "language": "python",
   "name": "torch_env"
  },
  "language_info": {
   "codemirror_mode": {
    "name": "ipython",
    "version": 3
   },
   "file_extension": ".py",
   "mimetype": "text/x-python",
   "name": "python",
   "nbconvert_exporter": "python",
   "pygments_lexer": "ipython3",
   "version": "3.7.6"
  },
  "toc": {
   "base_numbering": 1,
   "nav_menu": {},
   "number_sections": true,
   "sideBar": true,
   "skip_h1_title": false,
   "title_cell": "Table of Contents",
   "title_sidebar": "Contents",
   "toc_cell": false,
   "toc_position": {},
   "toc_section_display": true,
   "toc_window_display": false
  }
 },
 "nbformat": 4,
 "nbformat_minor": 5
}
