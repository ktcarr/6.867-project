{
 "cells": [
  {
   "cell_type": "code",
   "execution_count": 1,
   "id": "a8af34b6",
   "metadata": {},
   "outputs": [],
   "source": [
    "#!/usr/bin/python3\n",
    "import torch\n",
    "import torch.autograd as tag\n",
    "from torch.autograd.functional import jacobian, hessian"
   ]
  },
  {
   "cell_type": "code",
   "execution_count": 14,
   "id": "f0868cb8",
   "metadata": {},
   "outputs": [
    {
     "name": "stdout",
     "output_type": "stream",
     "text": [
      "tensor([78.], grad_fn=<DiagBackward>)\n",
      "\n",
      "tensor([78.], grad_fn=<SubBackward0>)\n",
      "\n",
      "tensor([46.], grad_fn=<DiagBackward>)\n",
      "\n",
      "tensor([46.], grad_fn=<AddBackward0>)\n",
      "\n",
      "tensor(6970.)\n"
     ]
    }
   ],
   "source": [
    "w = torch.tensor(5., requires_grad=True)\n",
    "def f(x):\n",
    "    return 2*x**3 + w*x**2 - 6*x\n",
    "def fprime(x):\n",
    "    return torch.diag(jacobian(func=f, inputs=x, create_graph=True))\n",
    "def fprime_actual(x):\n",
    "    return 6*x**2 + 2*w*x - 6\n",
    "def fprimeprime_actual(x):\n",
    "    return 12*x   + 2*w\n",
    "\n",
    "x = torch.linspace(0,1,10)\n",
    "x = torch.arange(10)\n",
    "x = torch.tensor([3.], requires_grad=True)\n",
    "\n",
    "x.requires_grad=True\n",
    "f_x  = fprime(x)\n",
    "f_xx = torch.diag(jacobian(func=fprime, inputs=x, create_graph=True))\n",
    "\n",
    "print(f_x)\n",
    "print()\n",
    "print(fprime_actual(x))\n",
    "print()\n",
    "print(f_xx)\n",
    "print()\n",
    "print(fprimeprime_actual(x))\n",
    "print()\n",
    "def mse(x):\n",
    "    return torch.sum(x**2).mean()\n",
    "\n",
    "loss = mse(f(x) + f_x + f_xx)\n",
    "# loss = f(x) + f_x + f_xx\n",
    "loss.backward()\n",
    "print(w.grad)"
   ]
  },
  {
   "cell_type": "code",
   "execution_count": 1,
   "id": "2c9dae6f",
   "metadata": {},
   "outputs": [
    {
     "name": "stdout",
     "output_type": "stream",
     "text": [
      "tensor(81., grad_fn=<SubBackward0>)\n",
      "tensor(78., grad_fn=<AddBackward0>)\n",
      "tensor(46., grad_fn=<AddBackward0>)\n",
      "tensor(2.)\n",
      "tensor(17.)\n"
     ]
    }
   ],
   "source": [
    "d2ydx2 = tag.grad(dydx, x, create_graph=True)[0]\n",
    "print(d2ydx2)   # should equal 46\n",
    "\n",
    "# we can evaluate partial derivatives w.r.t. w one at a time\n",
    "#f = y       # should equal 9\n",
    "#f = dydx    # should equal 6\n",
    "f = d2ydx2  # should equal 2\n",
    "\n",
    "# i'm using .backward() here in place of tag.grad() to simulate\n",
    "# how the neural network optimization function will expect\n",
    "# gradients of the loss function to be evaluated.\n",
    "#\n",
    "# with .backward(), the gradients need to be explicitly zeroed\n",
    "# after each call; my experimentation shows that multiple calls\n",
    "# to tag.grad() followed by a single call to .backward()\n",
    "# produces the correct derivatives without the explicit need to\n",
    "# re-zero intermediate gradients.\n",
    "f.backward()\n",
    "print(w.grad)\n",
    "\n",
    "#####################################\n",
    "# CALCULATION 2: SUM OF DERIVATIVES #\n",
    "#####################################\n",
    "# reset\n",
    "x = torch.tensor(3., requires_grad=True)\n",
    "w = torch.tensor(5., requires_grad=True)\n",
    "\n",
    "# recalculate gradients\n",
    "y = 2*x**3 + w*x**2 - 6*x\n",
    "dydx = tag.grad(y, x, create_graph=True)[0]\n",
    "d2ydx2 = tag.grad(dydx, x, create_graph=True)[0]\n",
    "\n",
    "# calculate the gradient w.r.t. w of the sum of all three\n",
    "f = y + dydx + d2ydx2\n",
    "f.backward()\n",
    "print(w.grad)   # should equal 9 + 6 + 2 = 17"
   ]
  }
 ],
 "metadata": {
  "kernelspec": {
   "display_name": "torch_env",
   "language": "python",
   "name": "torch_env"
  },
  "language_info": {
   "codemirror_mode": {
    "name": "ipython",
    "version": 3
   },
   "file_extension": ".py",
   "mimetype": "text/x-python",
   "name": "python",
   "nbconvert_exporter": "python",
   "pygments_lexer": "ipython3",
   "version": "3.7.6"
  },
  "toc": {
   "base_numbering": 1,
   "nav_menu": {},
   "number_sections": true,
   "sideBar": true,
   "skip_h1_title": false,
   "title_cell": "Table of Contents",
   "title_sidebar": "Contents",
   "toc_cell": false,
   "toc_position": {},
   "toc_section_display": true,
   "toc_window_display": false
  }
 },
 "nbformat": 4,
 "nbformat_minor": 5
}
